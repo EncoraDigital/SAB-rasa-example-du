{
  "nbformat": 4,
  "nbformat_minor": 0,
  "metadata": {
    "colab": {
      "name": "RASA-bot.ipynb",
      "version": "0.3.2",
      "provenance": [],
      "collapsed_sections": []
    },
    "kernelspec": {
      "name": "python3",
      "display_name": "Python 3"
    }
  },
  "cells": [
    {
      "metadata": {
        "id": "msuerNUm802j",
        "colab_type": "code",
        "colab": {}
      },
      "cell_type": "code",
      "source": [
        "import sys\n",
        "python = sys.executable\n",
        "\n",
        "# In your environment run:\n",
        "!{python} -m pip install -U rasa_core==0.9.6 rasa_nlu[spacy];"
      ],
      "execution_count": 0,
      "outputs": []
    },
    {
      "metadata": {
        "id": "hweYAKOH81uq",
        "colab_type": "code",
        "colab": {}
      },
      "cell_type": "code",
      "source": [
        "!python -m spacy download en_core_web_md\n",
        "!python -m spacy link en_core_web_md en --force;"
      ],
      "execution_count": 0,
      "outputs": []
    },
    {
      "metadata": {
        "id": "eQTUBqHQ0Bc5",
        "colab_type": "text"
      },
      "cell_type": "markdown",
      "source": [
        "## Define the Stories"
      ]
    },
    {
      "metadata": {
        "id": "xbBG9too9Qod",
        "colab_type": "code",
        "colab": {}
      },
      "cell_type": "code",
      "source": [
        "stories_md = \"\"\"\n",
        "## happy path\n",
        "* greet\n",
        "  - utter_greet\n",
        "* mood_great\n",
        "  - utter_happy\n",
        "\n",
        "## sad path 1\n",
        "* greet\n",
        "  - utter_greet\n",
        "* mood_unhappy\n",
        "  - utter_cheer_up\n",
        "  - utter_did_that_help\n",
        "* mood_affirm\n",
        "  - utter_happy\n",
        "\n",
        "## sad path 2\n",
        "* greet\n",
        "  - utter_greet\n",
        "* mood_unhappy\n",
        "  - utter_cheer_up\n",
        "  - utter_did_that_help\n",
        "* mood_deny\n",
        "  - utter_goodbye\n",
        "\n",
        "## say goodbye\n",
        "* goodbye\n",
        "  - utter_goodbye\n",
        "\"\"\"\n",
        "%store stories_md > stories.md\n",
        "\n",
        "print(\"Done!\")"
      ],
      "execution_count": 0,
      "outputs": []
    },
    {
      "metadata": {
        "id": "lYzP74UQ9fMO",
        "colab_type": "text"
      },
      "cell_type": "markdown",
      "source": [
        "## Define the Domain"
      ]
    },
    {
      "metadata": {
        "id": "V5UXu6TE9bSu",
        "colab_type": "code",
        "colab": {}
      },
      "cell_type": "code",
      "source": [
        "domain_yml = \"\"\"\n",
        "intents:\n",
        "  - greet\n",
        "  - goodbye\n",
        "  - mood_affirm\n",
        "  - mood_deny\n",
        "  - mood_great\n",
        "  - mood_unhappy\n",
        "\n",
        "actions:\n",
        "- utter_greet\n",
        "- utter_cheer_up\n",
        "- utter_did_that_help\n",
        "- utter_happy\n",
        "- utter_goodbye\n",
        "\n",
        "templates:\n",
        "  utter_greet:\n",
        "  - text: \"Hey! How are you?\"\n",
        "\n",
        "  utter_cheer_up:\n",
        "  - text: \"Here is something to cheer you up:\"\n",
        "    image: \"https://i.imgur.com/nGF1K8f.jpg\"\n",
        "\n",
        "  utter_did_that_help:\n",
        "  - text: \"Did that help you?\"\n",
        "\n",
        "  utter_happy:\n",
        "  - text: \"Great carry on!\"\n",
        "\n",
        "  utter_goodbye:\n",
        "  - text: \"Bye\"\n",
        "\"\"\"\n",
        "%store domain_yml > domain.yml\n",
        "\n",
        "print(\"Done!\")"
      ],
      "execution_count": 0,
      "outputs": []
    },
    {
      "metadata": {
        "id": "H3DkcERcKR1j",
        "colab_type": "text"
      },
      "cell_type": "markdown",
      "source": [
        "## Train RASA Core"
      ]
    },
    {
      "metadata": {
        "id": "jCnl6VlD9ekt",
        "colab_type": "code",
        "colab": {}
      },
      "cell_type": "code",
      "source": [
        "!python -m rasa_core.train -d domain.yml -s stories.md -o models/dialogue\n",
        "print(\"Finished training!\")"
      ],
      "execution_count": 0,
      "outputs": []
    },
    {
      "metadata": {
        "id": "npMjtvGZ0LLR",
        "colab_type": "text"
      },
      "cell_type": "markdown",
      "source": [
        "## Create the dataset for NLU"
      ]
    },
    {
      "metadata": {
        "id": "2gRJcYiy9ms-",
        "colab_type": "code",
        "colab": {}
      },
      "cell_type": "code",
      "source": [
        "\n",
        "nlu_md = \"\"\"\n",
        "## intent:greet\n",
        "- hey\n",
        "- hello\n",
        "- hi\n",
        "- good morning\n",
        "- good evening\n",
        "- hey there\n",
        "\n",
        "## intent:goodbye\n",
        "- bye\n",
        "- goodbye\n",
        "- see you around\n",
        "- see you later\n",
        "\n",
        "## intent:mood_affirm\n",
        "- yes\n",
        "- indeed\n",
        "- of course\n",
        "- that sounds good\n",
        "- correct\n",
        "\n",
        "## intent:mood_deny\n",
        "- no\n",
        "- never\n",
        "- I don't think so\n",
        "- don't like that\n",
        "- no way\n",
        "- not really\n",
        "\n",
        "## intent:mood_great\n",
        "- perfect\n",
        "- very good\n",
        "- great\n",
        "- amazing\n",
        "- wonderful\n",
        "- I am feeling very good\n",
        "- I am great\n",
        "- I'm good\n",
        "\n",
        "## intent:mood_unhappy\n",
        "- sad\n",
        "- very sad\n",
        "- unhappy\n",
        "- bad\n",
        "- very bad\n",
        "- awful\n",
        "- terrible\n",
        "- not very good\n",
        "- extremely sad\n",
        "- so sad\n",
        "- I feel blue\n",
        "\"\"\"\n",
        "%store nlu_md > nlu.md\n",
        "\n",
        "print(\"Done!\")"
      ],
      "execution_count": 0,
      "outputs": []
    },
    {
      "metadata": {
        "id": "9jDZ4ffX0QhU",
        "colab_type": "text"
      },
      "cell_type": "markdown",
      "source": [
        "## Define the RASA Pipeline"
      ]
    },
    {
      "metadata": {
        "id": "tQJX_1H09rjf",
        "colab_type": "code",
        "colab": {}
      },
      "cell_type": "code",
      "source": [
        "nlu_config = \"\"\"\n",
        "language: en\n",
        "pipeline: spacy_sklearn\n",
        "\"\"\"\n",
        "%store nlu_config > nlu_config.yml\n",
        "\n",
        "print(\"Done!\")"
      ],
      "execution_count": 0,
      "outputs": []
    },
    {
      "metadata": {
        "id": "7IfIVC5i-DpR",
        "colab_type": "text"
      },
      "cell_type": "markdown",
      "source": [
        "## Train an NLU model "
      ]
    },
    {
      "metadata": {
        "id": "ixd9xTuD-Aum",
        "colab_type": "code",
        "colab": {}
      },
      "cell_type": "code",
      "source": [
        "!python -m rasa_nlu.train -c nlu_config.yml --data nlu.md -o models --fixed_model_name nlu --project current --verbose"
      ],
      "execution_count": 0,
      "outputs": []
    },
    {
      "metadata": {
        "id": "x5dWqjNk-THL",
        "colab_type": "text"
      },
      "cell_type": "markdown",
      "source": [
        "## Talking To Your Bot"
      ]
    },
    {
      "metadata": {
        "id": "igeKdE0gE-AJ",
        "colab_type": "code",
        "colab": {}
      },
      "cell_type": "code",
      "source": [
        "import IPython\n",
        "from IPython.display import clear_output, HTML, display\n",
        "from rasa_core.agent import Agent\n",
        "from rasa_core.interpreter import RasaNLUInterpreter\n",
        "import time"
      ],
      "execution_count": 0,
      "outputs": []
    },
    {
      "metadata": {
        "id": "8PmDRduMCWrq",
        "colab_type": "code",
        "colab": {}
      },
      "cell_type": "code",
      "source": [
        "interpreter = RasaNLUInterpreter('models/current/nlu')\n",
        "agent = Agent.load('models/dialogue', interpreter=interpreter)\n",
        "messages = [\"Hi! you can chat in this window. Type 'stop' to end the conversation.\"]\n",
        "\n",
        "def chatlogs_html(messages):\n",
        "    messages_html = \"\".join([\"<p>{}</p>\".format(m) for m in messages])\n",
        "    chatbot_html = \"\"\"<div class=\"chat-window\" {}</div>\"\"\".format(messages_html)\n",
        "    return chatbot_html\n",
        "\n",
        "\n",
        "while True:\n",
        "    clear_output()\n",
        "    display(HTML(chatlogs_html(messages)))\n",
        "    time.sleep(0.3)    \n",
        "    a = input()\n",
        "    messages.append(a)\n",
        "    if a == 'stop':\n",
        "        break\n",
        "    responses = agent.handle_message(a)\n",
        "    for r in responses:\n",
        "        messages.append(r.get(\"text\"))"
      ],
      "execution_count": 0,
      "outputs": []
    },
    {
      "metadata": {
        "id": "JcknVjY2Hpy_",
        "colab_type": "text"
      },
      "cell_type": "markdown",
      "source": [
        "## Custom Actions"
      ]
    },
    {
      "metadata": {
        "id": "SAdT8iuud3N6",
        "colab_type": "code",
        "colab": {}
      },
      "cell_type": "code",
      "source": [
        "!pip install datetime\n",
        "!pip install timedelta"
      ],
      "execution_count": 0,
      "outputs": []
    },
    {
      "metadata": {
        "id": "diDlLsJ60Y4J",
        "colab_type": "text"
      },
      "cell_type": "markdown",
      "source": [
        "## Define the custom function"
      ]
    },
    {
      "metadata": {
        "id": "FucFompYKsub",
        "colab_type": "code",
        "colab": {}
      },
      "cell_type": "code",
      "source": [
        "custom_action = \"\"\"\n",
        "\n",
        "from rasa_core.actions import Action\n",
        "import numpy as np\n",
        "from IPython.core.display import Image, display\n",
        "from datetime import datetime, timedelta\n",
        "\n",
        "\n",
        "import requests\n",
        "\n",
        "descr = {\n",
        "    'clear sky': 0,\n",
        "    'few clouds': 1,\n",
        "    'light rain': 2,\n",
        "    'moderate rain': 3,\n",
        "    'broken clouds': 4,\n",
        "    'scattered clouds': 5,\n",
        "    'overcast clouds': 6\n",
        "}\n",
        "\n",
        "week_dict = {\n",
        "    'sunday': 5,\n",
        "    'monday': 6,\n",
        "    'tuesday': 0,\n",
        "    'wednesday': 1,\n",
        "    'thursday': 2,\n",
        "    'friday': 3,\n",
        "    'saturday': 4\n",
        "}\n",
        "\n",
        "\n",
        "class ActionWeatherRequest(Action):\n",
        "    def name(self):\n",
        "        return \"action_weather_request\"\n",
        "\n",
        "    def run(self, dispatcher, tracker, domain):\n",
        "        \n",
        "      weekday = next(tracker.get_latest_entity_values(\"weekday\"), None)\n",
        "      print(\"Received:\",weekday)\n",
        "\n",
        "      r = requests.get('http://api.openweathermap.org/data/2.5/forecast?id=3467865&APPID=10b05519ce75e9322480d20bf03e817c&units=metric')\n",
        "      if r.status_code == 200:\n",
        "         data = r.json()\n",
        "         avg_temp = {}\n",
        "         descr_temp = {}\n",
        "\n",
        "         for d in data['list']:\n",
        "\n",
        "            ts = int(d['dt'])\n",
        "\n",
        "            # if you encounter a \"year is out of range\" error the timestamp\n",
        "            # may be in milliseconds, try `ts /= 1000` in that case\n",
        "            date_str = datetime.utcfromtimestamp(ts).strftime('%Y-%m-%d')\n",
        "\n",
        "            if date_str not in avg_temp:\n",
        "               avg_temp[date_str] = [d['main']['temp']]\n",
        "               descr_temp[date_str] = [d['weather'][0]['description']]\n",
        "            else:\n",
        "               avg_temp[date_str].append(d['main']['temp'])\n",
        "               descr_temp[date_str].append(d['weather'][0]['description'])\n",
        "\n",
        "         avg_temp = {key: np.mean(values) for key, values in avg_temp.items()}\n",
        "\n",
        "         now = datetime.now()\n",
        "         weekday_id = int(now.utcfromtimestamp(ts).strftime('%w'))  # 0 --> Sunday\n",
        "         week_dict['today'] = weekday_id\n",
        "         week_dict['tomorrow'] = weekday_id + 1\n",
        "\n",
        "         increase_n_days = week_dict[weekday] - weekday_id\n",
        "\n",
        "         if increase_n_days < 0:\n",
        "            message = \"Sorry I can only look at the future.\"\n",
        "         elif increase_n_days > 5:\n",
        "            message = \"I cannot look that far in the future.\"\n",
        "         else:\n",
        "            now = now + timedelta(days=increase_n_days)\n",
        "            date = now.strftime('%Y-%m-%d')\n",
        "\n",
        "            if descr_temp[date][0] != descr_temp[date][-1]:\n",
        "               message = \"The average temperature for {0} is {1:.1f}. The day starts off with {2} but ends with a {3}\".format(\n",
        "            weekday, avg_temp[date], descr_temp[date][0], descr_temp[date][-1])\n",
        "            else:\n",
        "               message = \"The average temperature for {0} is {1:.1f}. Most of the day will have {2}.\".format(weekday,\n",
        "                                                                                                avg_temp[date],\n",
        "                                                                                                descr_temp[\n",
        "                                                                                                   date][0])\n",
        "\n",
        "         dispatcher.utter_message(message)\n",
        "      else:\n",
        "         dispatcher.utter_message('I am having problems with internet connection...')\n",
        "\n",
        "\"\"\"\n",
        "\n",
        "\n",
        "%store custom_action > actions.py"
      ],
      "execution_count": 0,
      "outputs": []
    },
    {
      "metadata": {
        "id": "ZR5Brz1RMBhy",
        "colab_type": "code",
        "colab": {}
      },
      "cell_type": "code",
      "source": [
        "! pip install rasa_core_sdk"
      ],
      "execution_count": 0,
      "outputs": []
    },
    {
      "metadata": {
        "id": "RiEOoV1xIjh5",
        "colab_type": "text"
      },
      "cell_type": "markdown",
      "source": [
        "## Adding new Story"
      ]
    },
    {
      "metadata": {
        "id": "fZ8kAWLjHzma",
        "colab_type": "code",
        "colab": {}
      },
      "cell_type": "code",
      "source": [
        "stories_md = \"\"\"\n",
        "## weather request\n",
        "* weather_request{\"weekday\": \"friday\"}\n",
        "  - action_weather_request\n",
        "\"\"\"\n",
        "%store stories_md >> stories.md\n",
        "\n",
        "print(\"Done!\")"
      ],
      "execution_count": 0,
      "outputs": []
    },
    {
      "metadata": {
        "id": "VgZPrz5-Ick-",
        "colab_type": "text"
      },
      "cell_type": "markdown",
      "source": [
        "## Redifine our Domain"
      ]
    },
    {
      "metadata": {
        "id": "yqY3FUN0ITAm",
        "colab_type": "code",
        "colab": {}
      },
      "cell_type": "code",
      "source": [
        "domain_yml = \"\"\"\n",
        "intents:\n",
        "  - greet\n",
        "  - goodbye\n",
        "  - mood_affirm\n",
        "  - mood_deny\n",
        "  - mood_great\n",
        "  - mood_unhappy\n",
        "  - weather_request\n",
        "\n",
        "actions:\n",
        "- utter_greet\n",
        "- utter_cheer_up\n",
        "- utter_did_that_help\n",
        "- utter_happy\n",
        "- utter_goodbye\n",
        "- actions.ActionWeatherRequest\n",
        "\n",
        "templates:\n",
        "  utter_greet:\n",
        "  - text: \"Hey! How are you?\"\n",
        "\n",
        "  utter_cheer_up:\n",
        "  - text: \"Here is something to cheer you up:\"\n",
        "    image: \"https://i.imgur.com/nGF1K8f.jpg\"\n",
        "\n",
        "  utter_did_that_help:\n",
        "  - text: \"Did that help you?\"\n",
        "\n",
        "  utter_happy:\n",
        "  - text: \"Great carry on!\"\n",
        "\n",
        "  utter_goodbye:\n",
        "  - text: \"Bye\"\n",
        "  \n",
        "entities:\n",
        "  - weekday\n",
        "\"\"\"\n",
        "%store domain_yml > domain.yml\n",
        "\n",
        "print(\"Done!\")"
      ],
      "execution_count": 0,
      "outputs": []
    },
    {
      "metadata": {
        "id": "XHWReT0tIl8T",
        "colab_type": "text"
      },
      "cell_type": "markdown",
      "source": [
        "## Adding new training data"
      ]
    },
    {
      "metadata": {
        "id": "Dzy-aoZqIB_s",
        "colab_type": "code",
        "colab": {}
      },
      "cell_type": "code",
      "source": [
        "nlu_md = \"\"\"\n",
        "## intent:weather_request\n",
        "- how is the weather [tomorrow](weekday) <!-- entity \"weekday\" has value \"tomorrow\" -->\n",
        "- show me the weather for [today](weekday)\n",
        "- how's the weather next [monday](weekday)\n",
        "- what is the temperature next [friday](weekday)\n",
        "- what's the weather [today](weekday)\n",
        "- tell me the weather for next [tuesday](weekday)\n",
        "- how's the temperature for [friday](weekday)\n",
        "\"\"\"\n",
        "%store nlu_md >> nlu.md\n",
        "\n",
        "print(\"Done!\")"
      ],
      "execution_count": 0,
      "outputs": []
    },
    {
      "metadata": {
        "id": "wC3VIIfpKWHj",
        "colab_type": "code",
        "colab": {}
      },
      "cell_type": "code",
      "source": [
        "!python -m rasa_core.train -d domain.yml -s stories.md -o models/dialogue\n",
        "print(\"Finished training core!\")"
      ],
      "execution_count": 0,
      "outputs": []
    },
    {
      "metadata": {
        "id": "rHiNZoBoKYDX",
        "colab_type": "code",
        "colab": {}
      },
      "cell_type": "code",
      "source": [
        "!python -m rasa_nlu.train -c nlu_config.yml --data nlu.md -o models --fixed_model_name nlu --project current --verbose\n",
        "print(\"Finished training NLU!\")"
      ],
      "execution_count": 0,
      "outputs": []
    },
    {
      "metadata": {
        "id": "wX5mzFksMR9g",
        "colab_type": "code",
        "colab": {}
      },
      "cell_type": "code",
      "source": [
        "! python3 -m rasa_core_sdk.endpoint --actions actions &\n",
        "# need to cancel this cell, the process runs on background"
      ],
      "execution_count": 0,
      "outputs": []
    },
    {
      "metadata": {
        "id": "pmBjrgeC0izI",
        "colab_type": "text"
      },
      "cell_type": "markdown",
      "source": [
        "## Talk to your bot"
      ]
    },
    {
      "metadata": {
        "id": "jvpVNOq4RlbJ",
        "colab_type": "code",
        "colab": {}
      },
      "cell_type": "code",
      "source": [
        "interpreter = RasaNLUInterpreter('models/current/nlu')\n",
        "agent = Agent.load('models/dialogue', interpreter=interpreter)\n",
        "messages = [\"Hi! you can chat in this window. Type 'stop' to end the conversation.\"]\n",
        "\n",
        "def chatlogs_html(messages):\n",
        "    messages_html = \"\".join([\"<p>{}</p>\".format(m) for m in messages])\n",
        "    chatbot_html = \"\"\"<div class=\"chat-window\" {}</div>\"\"\".format(messages_html)\n",
        "    return chatbot_html\n",
        "\n",
        "\n",
        "while True:\n",
        "    clear_output()\n",
        "    display(HTML(chatlogs_html(messages)))\n",
        "    time.sleep(0.3)    \n",
        "    a = input()\n",
        "    messages.append(a)\n",
        "    if a == 'stop':\n",
        "        break\n",
        "    responses = agent.handle_message(a)\n",
        "    print(responses)\n",
        "    for r in responses:\n",
        "        messages.append(r.get(\"text\"))"
      ],
      "execution_count": 0,
      "outputs": []
    },
    {
      "metadata": {
        "id": "V6neYuE-R5AY",
        "colab_type": "code",
        "colab": {}
      },
      "cell_type": "code",
      "source": [
        ""
      ],
      "execution_count": 0,
      "outputs": []
    }
  ]
}